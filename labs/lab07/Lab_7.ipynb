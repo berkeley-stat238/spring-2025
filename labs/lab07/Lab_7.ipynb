{
 "cells": [
  {
   "cell_type": "markdown",
   "id": "14f237fc-0634-4962-bf04-babeefd6bb9a",
   "metadata": {},
   "source": [
    "# Lab 7: Bayesian Hierarchical Modeling\n",
    "\n",
    "### Lab Date: Wednesday, Mar 12\n",
    "\n",
    "### Lab Due: Wednesday, Mar 19\n",
    "\n",
    "## Instructions\n",
    "\n",
    "Work with your lab group to complete the following notebook. Your work will be reviewed by your peers in lab next week (Wednesday, March 19)\n",
    "\n",
    "In this lab, you will:\n",
    "1. Understand the Bayesian hierarchical model in the context of image reconstruction.\n",
    "2. Apply the Fourier transform as a transformation matrix in an inverse problem.\n",
    "3. Implement Maximum A Posteriori (MAP) estimation using:\n",
    "\t- Coordinate Ascent Optimization\n",
    "\t- Gradient-Based Optimization (L-BFGS-B)\n",
    "4. Compute and interpret Laplace Approximation to estimate posterior uncertainty.\n",
    "5. Compare the effectiveness of different optimization methods in Bayesian inference.\n",
    "\n",
    "This lab applies Bayesian sparse regression to the MNIST dataset, where images of handwritten digits are processed and reconstructed using probabilistic models.\n",
    "\n",
    "If you are new to working in python, or in a Jupyter notebook, please ask your lab members for help. If you notice a lab member struggling, and have experience, please offer your help.\n",
    "\n",
    "Please see this [Ed post](https://edstem.org/us/courses/74615/discussion/6257662) for corrections, questions, and discussion. If you would rather work with your own copy of the files, I have uploaded a zip folder there with the lab materials. \n",
    "\n",
    "Corrections to the lab will be pushed directly to this notebook. We will only push corrections to the text, which is set to read only to prevent merge conflicts. In the event of a merge conflict, save your notebook under a different name, and click the link that launches the lab from the schedule on the [stat238 homepage](https://stat238.berkeley.edu/spring-2025/) again. Then, check for discrepancies. If you can't find them, or resolve the conflict, contact us."
   ]
  },
  {
   "cell_type": "markdown",
   "id": "894ce455",
   "metadata": {},
   "source": [
    "### Introduction\n",
    "\n",
    "Image reconstruction is a common problem in fields such as medical imaging (MRI, CT scans) and astronomical imaging. In this lab, we explore a Bayesian hierarchical model to reconstruct an image that has been transformed by the Fourier Transform and potentially affected by noise.\n",
    "\n",
    "We assume that the true image $X$ is transformed by an operator $A$, and we observe $Y$:\n",
    "$$Y = A X + \\epsilon, \\quad \\epsilon \\sim \\mathcal{N}(0, \\sigma^2 I)$$\n",
    "where $A$ represents the Fourier transform matrix.\n",
    "\n",
    "To recover $X$, we use a Bayesian hierarchical model, assuming a Gaussian prior:\n",
    "$$X_i \\sim \\mathcal{N}(0, \\tau^2)$$\n",
    "and placing an Inverse-Gamma hyperprior on $\\tau^2$:\n",
    "$$\\tau^2 \\sim \\text{Inv-Gamma}(\\alpha, \\beta)$$\n",
    "\n",
    "Our goal is to estimate $X$ using MAP estimation and compare different optimization methods."
   ]
  },
  {
   "cell_type": "code",
   "execution_count": 9,
   "id": "55d5ab49",
   "metadata": {},
   "outputs": [],
   "source": [
    "import numpy as np\n",
    "import matplotlib.pyplot as plt\n",
    "import torchvision.transforms as transforms\n",
    "from torchvision import datasets\n",
    "from scipy.linalg import inv\n",
    "from scipy.stats import invgamma\n",
    "from numpy.fft import fft2, ifft2\n",
    "from scipy.optimize import minimize"
   ]
  },
  {
   "cell_type": "code",
   "execution_count": 10,
   "id": "88458e09",
   "metadata": {},
   "outputs": [],
   "source": [
    "# Load an MNIST digit as an example\n",
    "transform = transforms.Compose([transforms.ToTensor(), transforms.Resize((28, 28))])\n",
    "mnist_dataset = datasets.MNIST(root=\"./data\", train=True, download=True, transform=transform)\n",
    "\n",
    "# Select an image from the dataset\n",
    "img, label = mnist_dataset[0]  # Get the first image\n",
    "img_array = img.squeeze().numpy()  # Convert from PyTorch tensor to NumPy\n",
    "X_true = img_array.flatten()  # Flatten the image for processing"
   ]
  },
  {
   "cell_type": "markdown",
   "id": "0a8d0085",
   "metadata": {},
   "source": [
    "### Step 1: Constructing the Fourier Transformation Matrix\n",
    "\n",
    "1. Define a function that constructs the Fourier transform matrix for an image of size $N \\times N$.\n",
    "2. Ensure that the transformation matrix only considers the real part for numerical stability.\n",
    "3. Normalize the matrix such that its maximum value is 1.\n",
    "$$A = \\text{Re}(\\mathcal{F}(I))$$\n",
    "where $\\mathcal{F}$ represents the 2D Fourier transform applied to the identity matrix."
   ]
  },
  {
   "cell_type": "code",
   "execution_count": 11,
   "id": "e1fa1197",
   "metadata": {},
   "outputs": [],
   "source": [
    "# Define the Fourier Transform based observation model\n",
    "def fourier_transform_matrix(size):\n",
    "    \"\"\"Create a Fourier transformation matrix.\"\"\"\n",
    "    A = np.fft.fft2(np.eye(size)).real  # Use only the real part for numerical stability\n",
    "    return A / np.max(A)  # Normalize the matrix"
   ]
  },
  {
   "cell_type": "markdown",
   "id": "0910cd9a",
   "metadata": {},
   "source": [
    "### Step 2: Simulating Observations\n",
    "1. Select an MNIST image and flatten it into a vector $X_{\\text{true}}$.\n",
    "2. Apply the Fourier transformation matrix $A$.\n",
    "3. Generate observations by applying $A$ to $X_{\\text{true}}$."
   ]
  },
  {
   "cell_type": "code",
   "execution_count": 12,
   "id": "f6bd89d0",
   "metadata": {},
   "outputs": [],
   "source": [
    "# Define noise level\n",
    "noise_std = 0.05  # Standard deviation of Gaussian noise\n",
    "\n",
    "# Apply the transformation matrix and add noise\n",
    "A = fourier_transform_matrix(len(X_true))\n",
    "Y = A @ X_true + np.random.normal(0, noise_std, size=X_true.shape)  # Noisy observations"
   ]
  },
  {
   "cell_type": "markdown",
   "id": "9a9ebbc2",
   "metadata": {},
   "source": [
    "### Step 3: Implementing Coordinate Ascent for MAP Estimation\n",
    "\n",
    "To maximize the posterior probability, we use Coordinate Ascent to iteratively update each coordinate of $X$ and estimate $\\tau^2$ using MAP estimation from the posterior.\n",
    "\n",
    "Updating $X_i$ (Coordinate-wise Optimization)\n",
    "\n",
    "Coordinate ascent is an iterative optimization technique that updates one variable at a time while keeping others fixed. It is commonly used in problems where the full optimization problem is hard to solve directly but can be broken down into simpler subproblems.\n",
    "\n",
    "In our case, we seek to maximize the posterior distribution of X given Y, which is equivalent to minimizing the negative log-posterior:\n",
    "$$J(X) = \\| A X - Y \\|^2 + \\frac{1}{2\\tau^2} \\sum X_i^2 = \\sum_i \\left( (a_i^T X - Y)^2 + \\frac{X_i^2}{2\\tau^2} \\right)$$\n",
    "\n",
    "Instead of optimizing all $X_i$ at once, we update each coordinate separately using coordinate ascent.\n",
    "\n",
    "Since only $X_i$ is being updated, we isolate it in the objective:\n",
    "$$J(X_i) = (a_i^T X - Y)^2 + \\frac{X_i^2}{2\\tau^2}$$\n",
    "Differentiating with respect to $X_i$ and setting to zero:\n",
    "$$X_i^{(t+1)} = \\frac{a_i^T(Y - A X + a_i X_i)}{a_i^T a_i + 1/\\tau^2}$$\n",
    "\n",
    "Thus for each coordinate $i$, we update $X_i$ using the formula:\n",
    "$$X_i^{(t+1)} = \\frac{a_i^T (Y - A X + a_i X_i)}{a_i^T a_i + 1/\\tau^2}$$\n",
    "where $a_i$ is the $i$-th column of $A$\n",
    "\n",
    "Estimating $\\tau^2$ using MAP estimation\n",
    "\n",
    "We obtain the MAP estimate by maximizing its density:\n",
    "$$p(\\tau^2 | X) \\propto (\\tau^2)^{-(\\alpha + n/2 + 1)} e^{-\\frac{\\beta + 0.5 \\sum X_i^2}{\\tau^2}}$$\n",
    "\n",
    "Taking the derivative and solving for \\tau^2, we obtain the MAP estimator:\n",
    "\n",
    "$$\\tau^2_{\\text{MAP}} = \\frac{\\beta + 0.5 \\sum X_i^2}{\\alpha + n/2 + 1}$$\n",
    "\n",
    "1. Implement coordinate ascent to iteratively update each variable $X_i$.\n",
    "2. Update the hyperparameter $\\tau^2$ using an Inverse-Gamma posterior.\n"
   ]
  },
  {
   "cell_type": "code",
   "execution_count": 13,
   "id": "89f4a815",
   "metadata": {},
   "outputs": [],
   "source": [
    "# Implement Coordinate Ascent\n",
    "def coordinate_ascent_fourier(A, Y, alpha=2.0, beta=2.0, tol=1e-6, max_iter=300):\n",
    "    \"\"\"\n",
    "    Perform MAP estimation for Bayesian hierarchical model using Coordinate Ascent.\n",
    "    - X has a Gaussian prior: X_i ~ N(0, τ^2)\n",
    "    - τ^2 has an Inverse-Gamma hyperprior\n",
    "    \"\"\"\n",
    "    n = A.shape[1]\n",
    "    X = np.zeros(n)  # Initialize X\n",
    "    tau2 = 0.5  # Initial value of tau2\n",
    "\n",
    "    for iter in range(max_iter):\n",
    "        X_old = X.copy()  # Store previous X for convergence check\n",
    "\n",
    "        # Update each coordinate X[i]\n",
    "        for i in range(n):\n",
    "            ai = A[:, i]\n",
    "            residual = Y - A @ X + ai * X[i]\n",
    "            X[i] = (ai @ residual) / (ai @ ai + 1/tau2 + 1e-6)  # Ensure numerical stability\n",
    "\n",
    "        # MAP estimate of τ²\n",
    "        tau2 = (beta + 0.5 * np.sum(X**2)) / (alpha + n/2 + 1)\n",
    "\n",
    "        # Check for convergence\n",
    "        if np.linalg.norm(X - X_old) < tol:\n",
    "            break\n",
    "\n",
    "    return X, tau2"
   ]
  },
  {
   "cell_type": "markdown",
   "id": "53c19fd2",
   "metadata": {},
   "source": [
    "### Step 4: Implementing Gradient-Based Optimization (L-BFGS-B)\n",
    "\n",
    "Define the MAP objective function using negative log likelihood:\n",
    "$$J(X, \\tau^2) = \\| A X - Y \\|^2 + \\frac{1}{2\\tau^2} \\sum X_i^2 + \\alpha \\log(\\tau^2) + \\frac{\\beta}{\\tau^2}$$\n",
    "and minimize it using L-BFGS-B.\n",
    "\n",
    "1. Define the objective function for MAP estimation.\n",
    "2. Use a gradient-based optimizer (L-BFGS-B) to minimize the function."
   ]
  },
  {
   "cell_type": "code",
   "execution_count": 14,
   "id": "41f27f37",
   "metadata": {},
   "outputs": [],
   "source": [
    "# Define the objective function\n",
    "def objective_function(params, A, Y, alpha=2.0, beta=2.0):\n",
    "    \"\"\"Objective function for MAP estimation using a gradient-based optimizer.\"\"\"\n",
    "    n = A.shape[1]\n",
    "    X = params[:-1]  # Extract X from parameter vector\n",
    "    tau2 = np.exp(params[-1])  # Ensure tau2 is positive by optimizing its log value\n",
    "\n",
    "    loss = np.linalg.norm(A @ X - Y) ** 2 + np.sum(X**2) / (2 * tau2)\n",
    "    loss += alpha * np.log(tau2) + beta / tau2  # Inverse-Gamma prior on tau2\n",
    "    return loss\n",
    "\n",
    "# Optimize using L-BFGS-B\n",
    "def gradient_based_optimizer(A, Y):\n",
    "    \"\"\"Optimize the MAP estimate using a gradient-based optimizer, jointly optimizing X and tau2.\"\"\"\n",
    "    n = A.shape[1]\n",
    "    X_init = np.zeros(n)\n",
    "    tau2_init = np.log(0.5)  # Optimize log(tau2) to enforce positivity\n",
    "\n",
    "    params_init = np.concatenate([X_init, [tau2_init]])\n",
    "\n",
    "    # Optimize both X and tau2\n",
    "    result = minimize(objective_function, params_init, args=(A, Y), method='L-BFGS-B')\n",
    "    \n",
    "    X_opt = result.x[:-1]\n",
    "    tau2_opt = np.exp(result.x[-1])  # Convert back from log space\n",
    "    return X_opt, tau2_opt"
   ]
  },
  {
   "cell_type": "markdown",
   "id": "835133ec",
   "metadata": {},
   "source": [
    "### Step 5: Computing Laplace Approximation for Uncertainty Estimation\n",
    "\n",
    "The Hessian matrix of the log posterior serves as an approximation of the inverse covariance matrix:\n",
    "$$\\Sigma = (A^T A / \\sigma^2)^{-1}$$\n",
    "\n",
    "1. Compute the Hessian matrix.\n",
    "2. Compute the posterior covariance matrix and extract uncertainty.\n"
   ]
  },
  {
   "cell_type": "code",
   "execution_count": 15,
   "id": "6d1f41d7",
   "metadata": {},
   "outputs": [],
   "source": [
    "# Compute Laplace Approximation\n",
    "def laplace_approximation(A, X_map, sigma2=1.0):\n",
    "    \"\"\"Compute the Laplace approximation to the posterior.\"\"\"\n",
    "    H = A.T @ A / sigma2  # Hessian of the log-posterior\n",
    "    covariance = inv(H + 1e-6 * np.eye(H.shape[0]))  # Add small ridge term for stability\n",
    "    return X_map, covariance"
   ]
  },
  {
   "cell_type": "markdown",
   "id": "12928822",
   "metadata": {},
   "source": [
    "### Step 6: Visualization and Comparison\n",
    "\n",
    "1. Plot the original image, the Fourier transformed image, and the reconstructed images.\n",
    "2. Compare Coordinate Ascent vs. Gradient-Based Optimization.\n",
    "3. Visualize the uncertainty map."
   ]
  },
  {
   "cell_type": "code",
   "execution_count": 16,
   "id": "029c08eb",
   "metadata": {},
   "outputs": [
    {
     "data": {
      "image/png": "[encoded data removed]",
      "text/plain": [
       "<Figure size 2500x500 with 5 Axes>"
      ]
     },
     "metadata": {},
     "output_type": "display_data"
    },
    {
     "name": "stdout",
     "output_type": "stream",
     "text": [
      "Coordinate Ascent Tau²: 0.005066\n",
      "Gradient-Based Optimized Tau²: 23.568197\n"
     ]
    }
   ],
   "source": [
    "# Compute MAP estimates using Bayesian hierarchical model with Fourier transform\n",
    "X_map_fourier, tau2_estimate = coordinate_ascent_fourier(A, Y)\n",
    "X_map_gradient, tau2_gradient = gradient_based_optimizer(A, Y)\n",
    "\n",
    "# Compute Laplace Approximation\n",
    "X_map, covariance = laplace_approximation(A, X_map_fourier)\n",
    "\n",
    "# Reshape for visualization\n",
    "X_map_fourier_img = X_map_fourier.reshape(28, 28)\n",
    "X_map_gradient_img = X_map_gradient.reshape(28, 28)\n",
    "\n",
    "# --- Visualization ---\n",
    "plt.figure(figsize=(25, 5))\n",
    "\n",
    "plt.subplot(1, 5, 1)\n",
    "plt.imshow(img_array, cmap=\"gray\")\n",
    "plt.title(\"Original MNIST Image\")\n",
    "\n",
    "plt.subplot(1, 5, 2)\n",
    "plt.imshow(np.abs(Y.reshape(28, 28)), cmap=\"gray\")\n",
    "plt.title(\"Fourier Transformed Image\")\n",
    "\n",
    "plt.subplot(1, 5, 3)\n",
    "plt.imshow(X_map_fourier_img, cmap=\"gray\")\n",
    "plt.title(\"Reconstructed (Coord. Ascent)\")\n",
    "\n",
    "plt.subplot(1, 5, 4)\n",
    "plt.imshow(X_map_gradient_img, cmap=\"gray\")\n",
    "plt.title(\"Reconstructed (Gradient-Based Optimizer)\")\n",
    "\n",
    "# Visualizing uncertainty (Laplace Approximation)\n",
    "uncertainty = np.sqrt(np.diag(covariance)).reshape(28, 28)\n",
    "plt.subplot(1, 5, 5)\n",
    "plt.imshow(uncertainty, cmap=\"hot\")\n",
    "plt.title(\"Uncertainty (Laplace Approx.)\")\n",
    "\n",
    "plt.show()\n",
    "\n",
    "# Print estimated τ² (hierarchical prior)\n",
    "print(f\"Coordinate Ascent Tau²: {tau2_estimate:.6f}\")\n",
    "print(f\"Gradient-Based Optimized Tau²: {tau2_gradient:.6f}\")"
   ]
  }
 ],
 "metadata": {
  "kernelspec": {
   "display_name": "Python 3 (ipykernel)",
   "language": "python",
   "name": "python3"
  },
  "language_info": {
   "codemirror_mode": {
    "name": "ipython",
    "version": 3
   },
   "file_extension": ".py",
   "mimetype": "text/x-python",
   "name": "python",
   "nbconvert_exporter": "python",
   "pygments_lexer": "ipython3",
   "version": "3.9.7"
  }
 },
 "nbformat": 4,
 "nbformat_minor": 5
}
